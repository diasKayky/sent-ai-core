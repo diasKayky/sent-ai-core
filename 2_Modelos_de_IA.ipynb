{
 "cells": [
  {
   "cell_type": "markdown",
   "id": "06324373",
   "metadata": {},
   "source": [
    "# 2. Modelos de IA"
   ]
  },
  {
   "cell_type": "markdown",
   "id": "62c36fc7",
   "metadata": {},
   "source": [
    "Para o Sent.AI, três modelos de deep learning serão criados, treinados e avaliados - um para classificar se o texto exibe uma recomendação acionável, um para predizer o sentimento geral do texto e outro para identificar a emoção predominante no texto.\n",
    "\n",
    "**Estrutura**\n",
    "\n",
    "* Modelo de Recomendação\n",
    "    * Carregamento dos Dados Preprocessados\n",
    "    * Desenvolvimento da Arquitetura\n",
    "    * Train Test Split\n",
    "    * Treinamento do Modelo\n",
    "    * Avaliação do Modelo\n",
    "    * Serialização do Modelo\n",
    "    \n",
    "* Modelo de Sentimento Geral\n",
    "    * Carregamento dos Dados Preprocessados\n",
    "    * Desenvolvimento da Arquitetura\n",
    "    * Train Test Split\n",
    "    * Treinamento do Modelo\n",
    "    * Avaliação do Modelo\n",
    "    * Serialização do Modelo\n",
    "    \n",
    "* Modelo de Emoção Predominante\n",
    "    * Carregamento dos Dados Preprocessados\n",
    "    * Desenvolvimento da Arquitetura\n",
    "    * Train Test Split\n",
    "    * Treinamento do Modelo\n",
    "    * Avaliação do Modelo\n",
    "    * Serialização do Modelo"
   ]
  },
  {
   "cell_type": "markdown",
   "id": "6885c20a",
   "metadata": {},
   "source": [
    "## Configurações iniciais"
   ]
  },
  {
   "cell_type": "code",
   "execution_count": 2,
   "id": "e1783615",
   "metadata": {},
   "outputs": [],
   "source": [
    "# Importações de libraries importantes\n",
    "\n",
    "import pandas as pd\n",
    "import numpy as np\n",
    "import pickle as pl\n",
    "import matplotlib.pyplot as plt\n",
    "import seaborn as sns\n",
    "from sklearn.model_selection import train_test_split\n",
    "import tensorflow.keras as keras\n",
    "import tensorflow as tf"
   ]
  },
  {
   "cell_type": "markdown",
   "id": "e14f3236",
   "metadata": {},
   "source": [
    "## Modelo de Recomendação"
   ]
  },
  {
   "cell_type": "markdown",
   "id": "11626d27",
   "metadata": {},
   "source": [
    "### Carregamento dos Dados Preprocessados"
   ]
  },
  {
   "cell_type": "code",
   "execution_count": 4,
   "id": "d5918646",
   "metadata": {},
   "outputs": [],
   "source": [
    "# Carregamento dos dados\n",
    "\n",
    "recomendacao_texto = pl.load(open(\"../dados/preprocessados/recomendacao_texto.pkl\", \"rb\"))\n",
    "recomendacao_label = pl.load(open(\"../dados/preprocessados/recomendacao_label.pkl\", \"rb\"))"
   ]
  },
  {
   "cell_type": "code",
   "execution_count": 5,
   "id": "e8a4ce9e",
   "metadata": {},
   "outputs": [
    {
     "data": {
      "text/plain": [
       "array([[  17, 4125,   28, ...,    0,    0,    0],\n",
       "       [  53,  420, 1166, ...,    0,    0,    0],\n",
       "       [  41,  655, 2666, ...,    0,    0,    0],\n",
       "       ...,\n",
       "       [ 906,   27,  110, ...,    0,    0,    0],\n",
       "       [  14, 7056, 6837, ...,    0,    0,    0],\n",
       "       [  24,  834, 1433, ...,    0,    0,    0]])"
      ]
     },
     "execution_count": 5,
     "metadata": {},
     "output_type": "execute_result"
    }
   ],
   "source": [
    "recomendacao_texto"
   ]
  },
  {
   "cell_type": "code",
   "execution_count": 6,
   "id": "5c3f1b16",
   "metadata": {},
   "outputs": [
    {
     "data": {
      "text/plain": [
       "array([1, 1, 1, ..., 0, 0, 0], dtype=int64)"
      ]
     },
     "execution_count": 6,
     "metadata": {},
     "output_type": "execute_result"
    }
   ],
   "source": [
    "recomendacao_label"
   ]
  },
  {
   "cell_type": "code",
   "execution_count": 7,
   "id": "d98fc661",
   "metadata": {},
   "outputs": [
    {
     "data": {
      "text/plain": [
       "array([[0., 1.],\n",
       "       [0., 1.],\n",
       "       [0., 1.],\n",
       "       ...,\n",
       "       [1., 0.],\n",
       "       [1., 0.],\n",
       "       [1., 0.]], dtype=float32)"
      ]
     },
     "execution_count": 7,
     "metadata": {},
     "output_type": "execute_result"
    }
   ],
   "source": [
    "# One-Hot Encoding da label\n",
    "\n",
    "recomendacao_label = keras.utils.to_categorical(recomendacao_label, 2)\n",
    "recomendacao_label"
   ]
  },
  {
   "cell_type": "markdown",
   "id": "22fae11e",
   "metadata": {},
   "source": [
    "### Desenvolvimento da Arquitetura"
   ]
  },
  {
   "cell_type": "code",
   "execution_count": null,
   "id": "8d850134",
   "metadata": {},
   "outputs": [],
   "source": [
    "class Modelo_de_Recomendacao:\n",
    "    \n",
    "    def __init__(self):"
   ]
  }
 ],
 "metadata": {
  "kernelspec": {
   "display_name": "Python 3 (ipykernel)",
   "language": "python",
   "name": "python3"
  },
  "language_info": {
   "codemirror_mode": {
    "name": "ipython",
    "version": 3
   },
   "file_extension": ".py",
   "mimetype": "text/x-python",
   "name": "python",
   "nbconvert_exporter": "python",
   "pygments_lexer": "ipython3",
   "version": "3.9.13"
  }
 },
 "nbformat": 4,
 "nbformat_minor": 5
}
