{
 "cells": [
  {
   "cell_type": "markdown",
   "id": "06324373",
   "metadata": {},
   "source": [
    "# 2. Modelos de IA"
   ]
  },
  {
   "cell_type": "markdown",
   "id": "62c36fc7",
   "metadata": {},
   "source": [
    "Para o Sent.AI, três modelos de deep learning serão criados, treinados e avaliados - um para classificar se o texto exibe uma recomendação acionável, um para predizer o sentimento geral do texto e outro para identificar a emoção predominante no texto.\n",
    "\n",
    "**Estrutura**\n",
    "\n",
    "* Modelo de Recomendação\n",
    "    * Carregamento dos Dados Preprocessados\n",
    "    * Desenvolvimento da Arquitetura\n",
    "    * Train Test Split\n",
    "    * Treinamento do Modelo\n",
    "    * Avaliação do Modelo\n",
    "    * Serialização do Modelo\n",
    "    \n",
    "* Modelo de Sentimento Geral\n",
    "    * Carregamento dos Dados Preprocessados\n",
    "    * Desenvolvimento da Arquitetura\n",
    "    * Train Test Split\n",
    "    * Treinamento do Modelo\n",
    "    * Avaliação do Modelo\n",
    "    * Serialização do Modelo\n",
    "    \n",
    "* Modelo de Emoção Predominante\n",
    "    * Carregamento dos Dados Preprocessados\n",
    "    * Desenvolvimento da Arquitetura\n",
    "    * Train Test Split\n",
    "    * Treinamento do Modelo\n",
    "    * Avaliação do Modelo\n",
    "    * Serialização do Modelo"
   ]
  },
  {
   "cell_type": "markdown",
   "id": "6885c20a",
   "metadata": {},
   "source": [
    "## Configurações iniciais"
   ]
  },
  {
   "cell_type": "code",
   "execution_count": 51,
   "id": "e1783615",
   "metadata": {},
   "outputs": [],
   "source": [
    "# Importações de libraries importantes\n",
    "\n",
    "import pandas as pd\n",
    "import numpy as np\n",
    "import pickle as pl\n",
    "import datetime\n",
    "import matplotlib.pyplot as plt\n",
    "import seaborn as sns\n",
    "from sklearn.model_selection import train_test_split\n",
    "import tensorflow.keras as tf_keras\n",
    "import tensorflow as tf"
   ]
  },
  {
   "cell_type": "markdown",
   "id": "e14f3236",
   "metadata": {},
   "source": [
    "## Modelo de Recomendação"
   ]
  },
  {
   "cell_type": "markdown",
   "id": "11626d27",
   "metadata": {},
   "source": [
    "### Carregamento dos Dados Preprocessados"
   ]
  },
  {
   "cell_type": "code",
   "execution_count": 4,
   "id": "d5918646",
   "metadata": {},
   "outputs": [],
   "source": [
    "# Carregamento dos dados\n",
    "\n",
    "recomendacao_texto = pl.load(open(\"../dados/preprocessados/recomendacao_texto.pkl\", \"rb\"))\n",
    "recomendacao_label = pl.load(open(\"../dados/preprocessados/recomendacao_label.pkl\", \"rb\"))"
   ]
  },
  {
   "cell_type": "code",
   "execution_count": 5,
   "id": "e8a4ce9e",
   "metadata": {},
   "outputs": [
    {
     "data": {
      "text/plain": [
       "array([[  17, 4125,   28, ...,    0,    0,    0],\n",
       "       [  53,  420, 1166, ...,    0,    0,    0],\n",
       "       [  41,  655, 2666, ...,    0,    0,    0],\n",
       "       ...,\n",
       "       [ 906,   27,  110, ...,    0,    0,    0],\n",
       "       [  14, 7056, 6837, ...,    0,    0,    0],\n",
       "       [  24,  834, 1433, ...,    0,    0,    0]])"
      ]
     },
     "execution_count": 5,
     "metadata": {},
     "output_type": "execute_result"
    }
   ],
   "source": [
    "recomendacao_texto"
   ]
  },
  {
   "cell_type": "code",
   "execution_count": 6,
   "id": "5c3f1b16",
   "metadata": {},
   "outputs": [
    {
     "data": {
      "text/plain": [
       "array([1, 1, 1, ..., 0, 0, 0], dtype=int64)"
      ]
     },
     "execution_count": 6,
     "metadata": {},
     "output_type": "execute_result"
    }
   ],
   "source": [
    "recomendacao_label"
   ]
  },
  {
   "cell_type": "code",
   "execution_count": 7,
   "id": "d98fc661",
   "metadata": {},
   "outputs": [
    {
     "data": {
      "text/plain": [
       "array([[0., 1.],\n",
       "       [0., 1.],\n",
       "       [0., 1.],\n",
       "       ...,\n",
       "       [1., 0.],\n",
       "       [1., 0.],\n",
       "       [1., 0.]], dtype=float32)"
      ]
     },
     "execution_count": 7,
     "metadata": {},
     "output_type": "execute_result"
    }
   ],
   "source": [
    "# One-Hot Encoding da label\n",
    "\n",
    "recomendacao_label = keras.utils.to_categorical(recomendacao_label, 2)\n",
    "recomendacao_label"
   ]
  },
  {
   "cell_type": "markdown",
   "id": "22fae11e",
   "metadata": {},
   "source": [
    "### Desenvolvimento da Arquitetura"
   ]
  },
  {
   "cell_type": "code",
   "execution_count": 74,
   "id": "8d850134",
   "metadata": {},
   "outputs": [],
   "source": [
    "class Modelo_de_Recomendacao:\n",
    "    \n",
    "    def __init__(self, dim_embedding, num_neuronios, attention, tamanho_vocab, tamanho_frase):\n",
    "        \n",
    "        self.dim_embedding = dim_embedding\n",
    "        self.num_neuronios = num_neuronios\n",
    "        self.tamanho_vocab = tamanho_vocab\n",
    "        self.tamanho_frase = tamanho_frase\n",
    "        self.attention = attention\n",
    "        \n",
    "    def constroi_modelo(self):\n",
    "        \n",
    "        # Camadas de entrada\n",
    "        inputs = tf_keras.layers.Input(shape=(self.tamanho_frase, ))\n",
    "        embedding = tf_keras.layers.Embedding(self.tamanho_vocab, self.dim_embedding, input_length=self.tamanho_frase)(inputs)\n",
    "        \n",
    "        # Camadas escondidas\n",
    "        gru = tf_keras.layers.Bidirectional(tf_keras.layers.GRU(self.num_neuronios, return_sequences=True))(embedding)\n",
    "        \n",
    "        # Mecanismo de Atenção\n",
    "        attention_layer1 = tf_keras.layers.Dense(self.attention, activation='tanh')(gru)\n",
    "        attention_layer2 = tf_keras.layers.Dense(1)(attention_layer1)\n",
    "        attention_layer3 = tf_keras.layers.Activation('softmax')(attention_layer2)\n",
    "        attention_output = tf_keras.layers.Dot(axes=1)([attention_layer3, gru])\n",
    "        flatten = tf_keras.layers.Flatten()(attention_output)\n",
    "        flatten = tf_keras.layers.RepeatVector(self.tamanho_frase)(flatten)\n",
    "        concatenated_attention = tf_keras.layers.Concatenate()([gru, flatten])\n",
    "        \n",
    "        # Camada de saída\n",
    "        dense1 = tf_keras.layers.Dense(self.num_neuronios, activation='relu')(concatenated_attention)\n",
    "        dropout = tf_keras.layers.Dropout(0.1)(dense1)\n",
    "        dense2 = tf_keras.layers.Dense(self.num_neuronios / 2, activation='relu')(dropout)\n",
    "        flatten2 = tf_keras.layers.Flatten()(dense2)\n",
    "        dense_output = tf_keras.layers.Dense(2, activation='softmax')(flatten2)\n",
    "        \n",
    "        # Modelo\n",
    "        modelo = tf_keras.models.Model(inputs=inputs, outputs=dense_output)\n",
    "        \n",
    "        return modelo"
   ]
  },
  {
   "cell_type": "code",
   "execution_count": 75,
   "id": "ccfc9f79",
   "metadata": {},
   "outputs": [
    {
     "name": "stdout",
     "output_type": "stream",
     "text": [
      "Model: \"model_8\"\n",
      "__________________________________________________________________________________________________\n",
      " Layer (type)                   Output Shape         Param #     Connected to                     \n",
      "==================================================================================================\n",
      " input_22 (InputLayer)          [(None, 1000)]       0           []                               \n",
      "                                                                                                  \n",
      " embedding_21 (Embedding)       (None, 1000, 128)    12800000    ['input_22[0][0]']               \n",
      "                                                                                                  \n",
      " bidirectional_21 (Bidirectiona  (None, 1000, 256)   198144      ['embedding_21[0][0]']           \n",
      " l)                                                                                               \n",
      "                                                                                                  \n",
      " dense_66 (Dense)               (None, 1000, 64)     16448       ['bidirectional_21[0][0]']       \n",
      "                                                                                                  \n",
      " dense_67 (Dense)               (None, 1000, 1)      65          ['dense_66[0][0]']               \n",
      "                                                                                                  \n",
      " activation_21 (Activation)     (None, 1000, 1)      0           ['dense_67[0][0]']               \n",
      "                                                                                                  \n",
      " dot_21 (Dot)                   (None, 1, 256)       0           ['activation_21[0][0]',          \n",
      "                                                                  'bidirectional_21[0][0]']       \n",
      "                                                                                                  \n",
      " flatten_18 (Flatten)           (None, 256)          0           ['dot_21[0][0]']                 \n",
      "                                                                                                  \n",
      " repeat_vector_8 (RepeatVector)  (None, 1000, 256)   0           ['flatten_18[0][0]']             \n",
      "                                                                                                  \n",
      " concatenate_17 (Concatenate)   (None, 1000, 512)    0           ['bidirectional_21[0][0]',       \n",
      "                                                                  'repeat_vector_8[0][0]']        \n",
      "                                                                                                  \n",
      " dense_68 (Dense)               (None, 1000, 128)    65664       ['concatenate_17[0][0]']         \n",
      "                                                                                                  \n",
      " dropout_8 (Dropout)            (None, 1000, 128)    0           ['dense_68[0][0]']               \n",
      "                                                                                                  \n",
      " dense_69 (Dense)               (None, 1000, 64)     8256        ['dropout_8[0][0]']              \n",
      "                                                                                                  \n",
      " flatten_19 (Flatten)           (None, 64000)        0           ['dense_69[0][0]']               \n",
      "                                                                                                  \n",
      " dense_70 (Dense)               (None, 2)            128002      ['flatten_19[0][0]']             \n",
      "                                                                                                  \n",
      "==================================================================================================\n",
      "Total params: 13,216,579\n",
      "Trainable params: 13,216,579\n",
      "Non-trainable params: 0\n",
      "__________________________________________________________________________________________________\n"
     ]
    }
   ],
   "source": [
    "# Sumário do Modelo\n",
    "\n",
    "modelo = Modelo_de_Recomendacao(128, 128, 64, 100000, 1000) # Hiperparâmetros de exemplo\n",
    "modelo = modelo.constroi_modelo()\n",
    "modelo.summary()"
   ]
  },
  {
   "cell_type": "markdown",
   "id": "1835e352",
   "metadata": {},
   "source": [
    "### Train Test Split"
   ]
  },
  {
   "cell_type": "code",
   "execution_count": 76,
   "id": "3f4ac75d",
   "metadata": {},
   "outputs": [],
   "source": [
    "X_train, X_test, Y_train, Y_test = train_test_split(recomendacao_texto, recomendacao_label, \n",
    "                                                    test_size=.15, random_state=341)"
   ]
  },
  {
   "cell_type": "code",
   "execution_count": 77,
   "id": "8e57de26",
   "metadata": {},
   "outputs": [
    {
     "data": {
      "text/plain": [
       "(40815, 1000)"
      ]
     },
     "execution_count": 77,
     "metadata": {},
     "output_type": "execute_result"
    }
   ],
   "source": [
    "X_train.shape"
   ]
  },
  {
   "cell_type": "code",
   "execution_count": 78,
   "id": "5af6d52b",
   "metadata": {},
   "outputs": [
    {
     "data": {
      "text/plain": [
       "(40815, 2)"
      ]
     },
     "execution_count": 78,
     "metadata": {},
     "output_type": "execute_result"
    }
   ],
   "source": [
    "Y_train.shape"
   ]
  },
  {
   "cell_type": "markdown",
   "id": "9af2d885",
   "metadata": {},
   "source": [
    "### Treinamento do Modelo"
   ]
  },
  {
   "cell_type": "code",
   "execution_count": 79,
   "id": "ade25160",
   "metadata": {},
   "outputs": [],
   "source": [
    "# PARÂMETROS\n",
    "\n",
    "params = {'tamanho_vocab': 255415, 'tamanho_frase': 1000, 'learning_rate': .001,\n",
    "          'num_neuronios': 256, 'dim_embedding': 256, 'attention': 128}\n",
    "\n",
    "modelo = Modelo_de_Recomendacao(params[\"dim_embedding\"], params[\"num_neuronios\"], \n",
    "                                params[\"attention\"], params[\"tamanho_vocab\"], params[\"tamanho_frase\"])\n",
    "\n",
    "modelo = modelo.constroi_modelo()"
   ]
  },
  {
   "cell_type": "code",
   "execution_count": 80,
   "id": "9f3ffe12",
   "metadata": {},
   "outputs": [
    {
     "name": "stdout",
     "output_type": "stream",
     "text": [
      "Model: \"model_9\"\n",
      "__________________________________________________________________________________________________\n",
      " Layer (type)                   Output Shape         Param #     Connected to                     \n",
      "==================================================================================================\n",
      " input_23 (InputLayer)          [(None, 1000)]       0           []                               \n",
      "                                                                                                  \n",
      " embedding_22 (Embedding)       (None, 1000, 256)    65386240    ['input_23[0][0]']               \n",
      "                                                                                                  \n",
      " bidirectional_22 (Bidirectiona  (None, 1000, 512)   789504      ['embedding_22[0][0]']           \n",
      " l)                                                                                               \n",
      "                                                                                                  \n",
      " dense_71 (Dense)               (None, 1000, 128)    65664       ['bidirectional_22[0][0]']       \n",
      "                                                                                                  \n",
      " dense_72 (Dense)               (None, 1000, 1)      129         ['dense_71[0][0]']               \n",
      "                                                                                                  \n",
      " activation_22 (Activation)     (None, 1000, 1)      0           ['dense_72[0][0]']               \n",
      "                                                                                                  \n",
      " dot_22 (Dot)                   (None, 1, 512)       0           ['activation_22[0][0]',          \n",
      "                                                                  'bidirectional_22[0][0]']       \n",
      "                                                                                                  \n",
      " flatten_20 (Flatten)           (None, 512)          0           ['dot_22[0][0]']                 \n",
      "                                                                                                  \n",
      " repeat_vector_9 (RepeatVector)  (None, 1000, 512)   0           ['flatten_20[0][0]']             \n",
      "                                                                                                  \n",
      " concatenate_18 (Concatenate)   (None, 1000, 1024)   0           ['bidirectional_22[0][0]',       \n",
      "                                                                  'repeat_vector_9[0][0]']        \n",
      "                                                                                                  \n",
      " dense_73 (Dense)               (None, 1000, 256)    262400      ['concatenate_18[0][0]']         \n",
      "                                                                                                  \n",
      " dropout_9 (Dropout)            (None, 1000, 256)    0           ['dense_73[0][0]']               \n",
      "                                                                                                  \n",
      " dense_74 (Dense)               (None, 1000, 128)    32896       ['dropout_9[0][0]']              \n",
      "                                                                                                  \n",
      " flatten_21 (Flatten)           (None, 128000)       0           ['dense_74[0][0]']               \n",
      "                                                                                                  \n",
      " dense_75 (Dense)               (None, 2)            256002      ['flatten_21[0][0]']             \n",
      "                                                                                                  \n",
      "==================================================================================================\n",
      "Total params: 66,792,835\n",
      "Trainable params: 66,792,835\n",
      "Non-trainable params: 0\n",
      "__________________________________________________________________________________________________\n"
     ]
    }
   ],
   "source": [
    "modelo.summary()"
   ]
  },
  {
   "cell_type": "code",
   "execution_count": 81,
   "id": "4c12a9fa",
   "metadata": {},
   "outputs": [],
   "source": [
    "modelo.compile(loss='categorical_crossentropy', \n",
    "               optimizer=keras.optimizers.Adam(learning_rate=params[\"learning_rate\"]), metrics=['accuracy'])"
   ]
  },
  {
   "cell_type": "code",
   "execution_count": null,
   "id": "2adb1754",
   "metadata": {},
   "outputs": [
    {
     "name": "stdout",
     "output_type": "stream",
     "text": [
      "Epoch 1/2\n",
      "405/638 [==================>...........] - ETA: 8:54:39 - loss: 7.9888 - accuracy: 0.9043"
     ]
    }
   ],
   "source": [
    "# Callbacks\n",
    "early_stopping = keras.callbacks.EarlyStopping(monitor='val_loss', patience=1)\n",
    "model_checkpoint = keras.callbacks.ModelCheckpoint('../modelos/modelo_recomendacao.h5', monitor='val_accuracy', save_best_only=True)\n",
    "\n",
    "# Tempo inicial\n",
    "now = datetime.datetime.now()\n",
    "\n",
    "# Treinamento do modelo\n",
    "history = modelo.fit(X_train, Y_train, epochs=2, validation_data=(X_test, Y_test), \n",
    "                     batch_size=64, callbacks=[early_stopping, model_checkpoint])\n",
    "# Tempo final\n",
    "now2 = datetime.datetime.now()\n",
    "\n",
    "time = now2 - now\n",
    "print(f\"O tempo que levou para treinar é de {time}\")"
   ]
  },
  {
   "cell_type": "code",
   "execution_count": null,
   "id": "2ed9488a",
   "metadata": {},
   "outputs": [],
   "source": []
  },
  {
   "cell_type": "code",
   "execution_count": null,
   "id": "79705d89",
   "metadata": {},
   "outputs": [],
   "source": []
  }
 ],
 "metadata": {
  "kernelspec": {
   "display_name": "Python 3 (ipykernel)",
   "language": "python",
   "name": "python3"
  },
  "language_info": {
   "codemirror_mode": {
    "name": "ipython",
    "version": 3
   },
   "file_extension": ".py",
   "mimetype": "text/x-python",
   "name": "python",
   "nbconvert_exporter": "python",
   "pygments_lexer": "ipython3",
   "version": "3.9.13"
  }
 },
 "nbformat": 4,
 "nbformat_minor": 5
}
