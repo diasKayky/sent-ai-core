{
 "cells": [
  {
   "cell_type": "markdown",
   "id": "06324373",
   "metadata": {},
   "source": [
    "# 2. Modelos de IA"
   ]
  },
  {
   "cell_type": "markdown",
   "id": "62c36fc7",
   "metadata": {},
   "source": [
    "Para o Sent.AI, três modelos de deep learning serão criados, treinados e avaliados - um para classificar se o texto exibe uma recomendação acionável, um para predizer o sentimento geral do texto e outro para identificar a emoção predominante no texto.\n",
    "\n",
    "**Estrutura**\n",
    "\n",
    "* Modelo de Recomendação\n",
    "    * Carregamento dos Dados Preprocessados\n",
    "    * Desenvolvimento da Arquitetura\n",
    "    * Train Test Split\n",
    "    * Treinamento do Modelo\n",
    "    * Avaliação do Modelo\n",
    "\n",
    "* Modelo de Emoção Predominante\n",
    "    * Carregamento dos Dados Preprocessados\n",
    "    * Desenvolvimento da Arquitetura\n",
    "    * Train Test Split\n",
    "    * Treinamento do Modelo\n",
    "    * Avaliação do Modelo\n",
    "    \n",
    "* Modelo de Sentimento Geral\n",
    "    * Carregamento dos Dados Preprocessados\n",
    "    * Desenvolvimento da Arquitetura\n",
    "    * Train Test Split\n",
    "    * Treinamento do Modelo\n",
    "    * Avaliação do Modelo"
   ]
  },
  {
   "cell_type": "markdown",
   "id": "6885c20a",
   "metadata": {},
   "source": [
    "## Configurações iniciais"
   ]
  },
  {
   "cell_type": "code",
   "execution_count": 1,
   "id": "e1783615",
   "metadata": {},
   "outputs": [],
   "source": [
    "# Importações de libraries importantes\n",
    "\n",
    "import pandas as pd\n",
    "import numpy as np\n",
    "import pickle as pl\n",
    "from sklearn import metrics\n",
    "import datetime\n",
    "import matplotlib.pyplot as plt\n",
    "import seaborn as sns\n",
    "from sklearn.model_selection import train_test_split\n",
    "import tensorflow.keras as tf_keras\n",
    "import tensorflow as tf"
   ]
  },
  {
   "cell_type": "markdown",
   "id": "e14f3236",
   "metadata": {},
   "source": [
    "## Modelo de Recomendação"
   ]
  },
  {
   "cell_type": "markdown",
   "id": "11626d27",
   "metadata": {},
   "source": [
    "### Carregamento dos Dados Preprocessados"
   ]
  },
  {
   "cell_type": "code",
   "execution_count": 84,
   "id": "d5918646",
   "metadata": {},
   "outputs": [],
   "source": [
    "# Carregamento dos dados\n",
    "\n",
    "recomendacao_texto = pl.load(open(\"../dados/preprocessados/recomendacao_texto.pkl\", \"rb\"))\n",
    "recomendacao_label = pl.load(open(\"../dados/preprocessados/recomendacao_label.pkl\", \"rb\"))"
   ]
  },
  {
   "cell_type": "code",
   "execution_count": 85,
   "id": "e8a4ce9e",
   "metadata": {},
   "outputs": [
    {
     "data": {
      "text/plain": [
       "array([[  17, 4125,   28, ...,    0,    0,    0],\n",
       "       [  53,  420, 1166, ...,    0,    0,    0],\n",
       "       [  41,  655, 2666, ...,    0,    0,    0],\n",
       "       ...,\n",
       "       [ 906,   27,  110, ...,    0,    0,    0],\n",
       "       [  14, 7056, 6837, ...,    0,    0,    0],\n",
       "       [  24,  834, 1433, ...,    0,    0,    0]])"
      ]
     },
     "execution_count": 85,
     "metadata": {},
     "output_type": "execute_result"
    }
   ],
   "source": [
    "recomendacao_texto"
   ]
  },
  {
   "cell_type": "code",
   "execution_count": 86,
   "id": "5c3f1b16",
   "metadata": {},
   "outputs": [
    {
     "data": {
      "text/plain": [
       "array([1, 1, 1, ..., 0, 0, 0], dtype=int64)"
      ]
     },
     "execution_count": 86,
     "metadata": {},
     "output_type": "execute_result"
    }
   ],
   "source": [
    "recomendacao_label"
   ]
  },
  {
   "cell_type": "code",
   "execution_count": 87,
   "id": "d98fc661",
   "metadata": {},
   "outputs": [
    {
     "data": {
      "text/plain": [
       "array([[0., 1.],\n",
       "       [0., 1.],\n",
       "       [0., 1.],\n",
       "       ...,\n",
       "       [1., 0.],\n",
       "       [1., 0.],\n",
       "       [1., 0.]], dtype=float32)"
      ]
     },
     "execution_count": 87,
     "metadata": {},
     "output_type": "execute_result"
    }
   ],
   "source": [
    "# One-Hot Encoding da label\n",
    "\n",
    "recomendacao_label = tf_keras.utils.to_categorical(recomendacao_label, 2)\n",
    "recomendacao_label"
   ]
  },
  {
   "cell_type": "markdown",
   "id": "22fae11e",
   "metadata": {},
   "source": [
    "### Desenvolvimento da Arquitetura"
   ]
  },
  {
   "cell_type": "code",
   "execution_count": 88,
   "id": "8d850134",
   "metadata": {},
   "outputs": [],
   "source": [
    "class Modelo_de_Recomendacao:\n",
    "    \n",
    "    def __init__(self, dim_embedding, num_neuronios, attention, tamanho_vocab, tamanho_frase):\n",
    "        \n",
    "        self.dim_embedding = dim_embedding\n",
    "        self.num_neuronios = num_neuronios\n",
    "        self.tamanho_vocab = tamanho_vocab\n",
    "        self.tamanho_frase = tamanho_frase\n",
    "        self.attention = attention\n",
    "        \n",
    "    def constroi_modelo(self):\n",
    "        \n",
    "        # Camadas de entrada\n",
    "        inputs = tf_keras.layers.Input(shape=(self.tamanho_frase, ))\n",
    "        embedding = tf_keras.layers.Embedding(self.tamanho_vocab, self.dim_embedding, input_length=self.tamanho_frase)(inputs)\n",
    "        \n",
    "        # Camadas escondidas\n",
    "        gru = tf_keras.layers.Bidirectional(tf_keras.layers.GRU(self.num_neuronios, return_sequences=True))(embedding)\n",
    "        \n",
    "        # Mecanismo de Atenção\n",
    "        attention_layer1 = tf_keras.layers.Dense(self.attention, activation='tanh')(gru)\n",
    "        attention_layer2 = tf_keras.layers.Dense(1)(attention_layer1)\n",
    "        attention_layer3 = tf_keras.layers.Activation('softmax')(attention_layer2)\n",
    "        attention_output = tf_keras.layers.Dot(axes=1)([attention_layer3, gru])\n",
    "        flatten = tf_keras.layers.Flatten()(attention_output)\n",
    "        flatten = tf_keras.layers.RepeatVector(self.tamanho_frase)(flatten)\n",
    "        concatenated_attention = tf_keras.layers.Concatenate()([gru, flatten])\n",
    "        \n",
    "        # Camada de saída\n",
    "        dense1 = tf_keras.layers.Dense(self.num_neuronios, activation='relu')(concatenated_attention)\n",
    "        dropout = tf_keras.layers.Dropout(0.1)(dense1)\n",
    "        dense2 = tf_keras.layers.Dense(self.num_neuronios / 2, activation='relu')(dropout)\n",
    "        flatten2 = tf_keras.layers.Flatten()(dense2)\n",
    "        dense_output = tf_keras.layers.Dense(2, activation='softmax')(flatten2)\n",
    "        \n",
    "        # Modelo\n",
    "        modelo = tf_keras.models.Model(inputs=inputs, outputs=dense_output)\n",
    "        \n",
    "        return modelo"
   ]
  },
  {
   "cell_type": "code",
   "execution_count": 89,
   "id": "c6447ce9",
   "metadata": {},
   "outputs": [
    {
     "name": "stdout",
     "output_type": "stream",
     "text": [
      "Model: \"model_10\"\n",
      "__________________________________________________________________________________________________\n",
      " Layer (type)                   Output Shape         Param #     Connected to                     \n",
      "==================================================================================================\n",
      " input_24 (InputLayer)          [(None, 1000)]       0           []                               \n",
      "                                                                                                  \n",
      " embedding_23 (Embedding)       (None, 1000, 128)    12800000    ['input_24[0][0]']               \n",
      "                                                                                                  \n",
      " bidirectional_23 (Bidirectiona  (None, 1000, 256)   198144      ['embedding_23[0][0]']           \n",
      " l)                                                                                               \n",
      "                                                                                                  \n",
      " dense_76 (Dense)               (None, 1000, 64)     16448       ['bidirectional_23[0][0]']       \n",
      "                                                                                                  \n",
      " dense_77 (Dense)               (None, 1000, 1)      65          ['dense_76[0][0]']               \n",
      "                                                                                                  \n",
      " activation_23 (Activation)     (None, 1000, 1)      0           ['dense_77[0][0]']               \n",
      "                                                                                                  \n",
      " dot_23 (Dot)                   (None, 1, 256)       0           ['activation_23[0][0]',          \n",
      "                                                                  'bidirectional_23[0][0]']       \n",
      "                                                                                                  \n",
      " flatten_22 (Flatten)           (None, 256)          0           ['dot_23[0][0]']                 \n",
      "                                                                                                  \n",
      " repeat_vector_10 (RepeatVector  (None, 1000, 256)   0           ['flatten_22[0][0]']             \n",
      " )                                                                                                \n",
      "                                                                                                  \n",
      " concatenate_19 (Concatenate)   (None, 1000, 512)    0           ['bidirectional_23[0][0]',       \n",
      "                                                                  'repeat_vector_10[0][0]']       \n",
      "                                                                                                  \n",
      " dense_78 (Dense)               (None, 1000, 128)    65664       ['concatenate_19[0][0]']         \n",
      "                                                                                                  \n",
      " dropout_10 (Dropout)           (None, 1000, 128)    0           ['dense_78[0][0]']               \n",
      "                                                                                                  \n",
      " dense_79 (Dense)               (None, 1000, 64)     8256        ['dropout_10[0][0]']             \n",
      "                                                                                                  \n",
      " flatten_23 (Flatten)           (None, 64000)        0           ['dense_79[0][0]']               \n",
      "                                                                                                  \n",
      " dense_80 (Dense)               (None, 2)            128002      ['flatten_23[0][0]']             \n",
      "                                                                                                  \n",
      "==================================================================================================\n",
      "Total params: 13,216,579\n",
      "Trainable params: 13,216,579\n",
      "Non-trainable params: 0\n",
      "__________________________________________________________________________________________________\n"
     ]
    }
   ],
   "source": [
    "# Sumário do Modelo\n",
    "\n",
    "modelo = Modelo_de_Recomendacao(128, 128, 64, 100000, 1000) # Hiperparâmetros de exemplo\n",
    "modelo = modelo.constroi_modelo()\n",
    "modelo.summary()"
   ]
  },
  {
   "cell_type": "markdown",
   "id": "d71f6a0e",
   "metadata": {},
   "source": [
    "### Train Test Split"
   ]
  },
  {
   "cell_type": "code",
   "execution_count": 90,
   "id": "7e8c3b43",
   "metadata": {},
   "outputs": [],
   "source": [
    "X_train, X_test, Y_train, Y_test = train_test_split(recomendacao_texto, recomendacao_label, \n",
    "                                                    test_size=.15, random_state=341)"
   ]
  },
  {
   "cell_type": "code",
   "execution_count": 91,
   "id": "97e5ddba",
   "metadata": {},
   "outputs": [
    {
     "data": {
      "text/plain": [
       "(40815, 1000)"
      ]
     },
     "execution_count": 91,
     "metadata": {},
     "output_type": "execute_result"
    }
   ],
   "source": [
    "X_train.shape"
   ]
  },
  {
   "cell_type": "code",
   "execution_count": 92,
   "id": "9fd8f5da",
   "metadata": {},
   "outputs": [
    {
     "data": {
      "text/plain": [
       "(40815, 2)"
      ]
     },
     "execution_count": 92,
     "metadata": {},
     "output_type": "execute_result"
    }
   ],
   "source": [
    "Y_train.shape"
   ]
  },
  {
   "cell_type": "markdown",
   "id": "00e02acf",
   "metadata": {},
   "source": [
    "### Treinamento do Modelo"
   ]
  },
  {
   "cell_type": "code",
   "execution_count": 79,
   "id": "da6c09c5",
   "metadata": {},
   "outputs": [],
   "source": [
    "# PARÂMETROS\n",
    "\n",
    "params = {'tamanho_vocab': 255415, 'tamanho_frase': 1000, 'learning_rate': .001,\n",
    "          'num_neuronios': 256, 'dim_embedding': 256, 'attention': 128}\n",
    "\n",
    "modelo = Modelo_de_Recomendacao(params[\"dim_embedding\"], params[\"num_neuronios\"], \n",
    "                                params[\"attention\"], params[\"tamanho_vocab\"], params[\"tamanho_frase\"])\n",
    "\n",
    "modelo = modelo.constroi_modelo()"
   ]
  },
  {
   "cell_type": "code",
   "execution_count": 80,
   "id": "08481ba7",
   "metadata": {},
   "outputs": [
    {
     "name": "stdout",
     "output_type": "stream",
     "text": [
      "Model: \"model_9\"\n",
      "__________________________________________________________________________________________________\n",
      " Layer (type)                   Output Shape         Param #     Connected to                     \n",
      "==================================================================================================\n",
      " input_23 (InputLayer)          [(None, 1000)]       0           []                               \n",
      "                                                                                                  \n",
      " embedding_22 (Embedding)       (None, 1000, 256)    65386240    ['input_23[0][0]']               \n",
      "                                                                                                  \n",
      " bidirectional_22 (Bidirectiona  (None, 1000, 512)   789504      ['embedding_22[0][0]']           \n",
      " l)                                                                                               \n",
      "                                                                                                  \n",
      " dense_71 (Dense)               (None, 1000, 128)    65664       ['bidirectional_22[0][0]']       \n",
      "                                                                                                  \n",
      " dense_72 (Dense)               (None, 1000, 1)      129         ['dense_71[0][0]']               \n",
      "                                                                                                  \n",
      " activation_22 (Activation)     (None, 1000, 1)      0           ['dense_72[0][0]']               \n",
      "                                                                                                  \n",
      " dot_22 (Dot)                   (None, 1, 512)       0           ['activation_22[0][0]',          \n",
      "                                                                  'bidirectional_22[0][0]']       \n",
      "                                                                                                  \n",
      " flatten_20 (Flatten)           (None, 512)          0           ['dot_22[0][0]']                 \n",
      "                                                                                                  \n",
      " repeat_vector_9 (RepeatVector)  (None, 1000, 512)   0           ['flatten_20[0][0]']             \n",
      "                                                                                                  \n",
      " concatenate_18 (Concatenate)   (None, 1000, 1024)   0           ['bidirectional_22[0][0]',       \n",
      "                                                                  'repeat_vector_9[0][0]']        \n",
      "                                                                                                  \n",
      " dense_73 (Dense)               (None, 1000, 256)    262400      ['concatenate_18[0][0]']         \n",
      "                                                                                                  \n",
      " dropout_9 (Dropout)            (None, 1000, 256)    0           ['dense_73[0][0]']               \n",
      "                                                                                                  \n",
      " dense_74 (Dense)               (None, 1000, 128)    32896       ['dropout_9[0][0]']              \n",
      "                                                                                                  \n",
      " flatten_21 (Flatten)           (None, 128000)       0           ['dense_74[0][0]']               \n",
      "                                                                                                  \n",
      " dense_75 (Dense)               (None, 2)            256002      ['flatten_21[0][0]']             \n",
      "                                                                                                  \n",
      "==================================================================================================\n",
      "Total params: 66,792,835\n",
      "Trainable params: 66,792,835\n",
      "Non-trainable params: 0\n",
      "__________________________________________________________________________________________________\n"
     ]
    }
   ],
   "source": [
    "modelo.summary()"
   ]
  },
  {
   "cell_type": "code",
   "execution_count": 81,
   "id": "167273a9",
   "metadata": {},
   "outputs": [],
   "source": [
    "modelo.compile(loss='categorical_crossentropy', \n",
    "               optimizer=keras.optimizers.Adam(learning_rate=params[\"learning_rate\"]), metrics=['accuracy'])"
   ]
  },
  {
   "cell_type": "code",
   "execution_count": null,
   "id": "0d7111b9",
   "metadata": {},
   "outputs": [
    {
     "name": "stdout",
     "output_type": "stream",
     "text": [
      "Epoch 1/2\n",
      "638/638 [==============================] - 94572s 148s/step - loss: 5.0867 - accuracy: 0.9351 - val_loss: 0.3529 - val_accuracy: 0.6764\n",
      "Epoch 2/2\n",
      "  4/638 [..............................] - ETA: 25:28:14 - loss: 0.0372 - accuracy: 0.9883"
     ]
    }
   ],
   "source": [
    "# Callbacks\n",
    "early_stopping = keras.callbacks.EarlyStopping(monitor='val_loss', patience=1)\n",
    "model_checkpoint = keras.callbacks.ModelCheckpoint('../modelos/modelo_recomendacao.h5', monitor='val_accuracy', save_best_only=True)\n",
    "\n",
    "# Tempo inicial\n",
    "now = datetime.datetime.now()\n",
    "\n",
    "# Treinamento do modelo\n",
    "history = modelo.fit(X_train, Y_train, epochs=2, validation_data=(X_test, Y_test), \n",
    "                     batch_size=64, callbacks=[early_stopping, model_checkpoint])\n",
    "# Tempo final\n",
    "now2 = datetime.datetime.now()\n",
    "\n",
    "time = now2 - now\n",
    "print(f\"O tempo que levou para treinar é de {time}\")"
   ]
  },
  {
   "cell_type": "markdown",
   "id": "db4e8c62",
   "metadata": {},
   "source": [
    "### Avaliação do Modelo"
   ]
  },
  {
   "cell_type": "code",
   "execution_count": 93,
   "id": "80dce583",
   "metadata": {},
   "outputs": [],
   "source": [
    "# Carregamento do modelo serializado\n",
    "\n",
    "modelo = tf_keras.models.load_model(\"../modelos/modelo_recomendacao.h5\")"
   ]
  },
  {
   "cell_type": "code",
   "execution_count": 94,
   "id": "0009be55",
   "metadata": {},
   "outputs": [
    {
     "name": "stdout",
     "output_type": "stream",
     "text": [
      "226/226 [==============================] - 907s 4s/step\n"
     ]
    }
   ],
   "source": [
    "# Predição no dataset de teste\n",
    "\n",
    "y_pred = modelo.predict([X_test])"
   ]
  },
  {
   "cell_type": "code",
   "execution_count": 101,
   "id": "061ac2ea",
   "metadata": {},
   "outputs": [
    {
     "data": {
      "text/plain": [
       "array([1, 1, 1, ..., 1, 1, 1], dtype=int64)"
      ]
     },
     "execution_count": 101,
     "metadata": {},
     "output_type": "execute_result"
    }
   ],
   "source": [
    "y_pred"
   ]
  },
  {
   "cell_type": "code",
   "execution_count": 109,
   "id": "4ca48b59",
   "metadata": {},
   "outputs": [
    {
     "data": {
      "text/plain": [
       "array([[0., 1.],\n",
       "       [0., 1.],\n",
       "       [1., 0.],\n",
       "       ...,\n",
       "       [1., 0.],\n",
       "       [0., 1.],\n",
       "       [1., 0.]], dtype=float32)"
      ]
     },
     "execution_count": 109,
     "metadata": {},
     "output_type": "execute_result"
    }
   ],
   "source": [
    "Y_test"
   ]
  },
  {
   "cell_type": "code",
   "execution_count": 108,
   "id": "05179827",
   "metadata": {},
   "outputs": [
    {
     "data": {
      "text/plain": [
       "array([1, 1, 0, ..., 0, 1, 0], dtype=int64)"
      ]
     },
     "execution_count": 108,
     "metadata": {},
     "output_type": "execute_result"
    }
   ],
   "source": [
    "np.argmax(Y_test, axis=-1)"
   ]
  },
  {
   "cell_type": "code",
   "execution_count": 110,
   "id": "4daa0dd9",
   "metadata": {},
   "outputs": [
    {
     "name": "stdout",
     "output_type": "stream",
     "text": [
      "              precision    recall  f1-score   support\n",
      "\n",
      "           0       0.17      1.00      0.29       487\n",
      "           1       1.00      0.65      0.79      6716\n",
      "\n",
      "    accuracy                           0.68      7203\n",
      "   macro avg       0.59      0.83      0.54      7203\n",
      "weighted avg       0.94      0.68      0.76      7203\n",
      "\n"
     ]
    }
   ],
   "source": [
    "# Classification Report\n",
    "\n",
    "print(metrics.classification_report(y_pred, np.argmax(Y_test, axis=-1)))"
   ]
  },
  {
   "cell_type": "code",
   "execution_count": 112,
   "id": "23db9e7f",
   "metadata": {},
   "outputs": [
    {
     "data": {
      "text/plain": [
       "<AxesSubplot:>"
      ]
     },
     "execution_count": 112,
     "metadata": {},
     "output_type": "execute_result"
    },
    {
     "data": {
      "image/png": "[encoded data removed]",
      "text/plain": [
       "<Figure size 640x480 with 2 Axes>"
      ]
     },
     "metadata": {},
     "output_type": "display_data"
    }
   ],
   "source": [
    "# Matriz de Confusão\n",
    "\n",
    "sns.heatmap(metrics.confusion_matrix(y_pred, np.argmax(Y_test, axis=-1)))"
   ]
  },
  {
   "cell_type": "markdown",
   "id": "74faafb2",
   "metadata": {},
   "source": [
    "## Modelo de Emoção"
   ]
  },
  {
   "cell_type": "markdown",
   "id": "4083c839",
   "metadata": {},
   "source": [
    "### Carregamento dos Dados Preprocessados"
   ]
  },
  {
   "cell_type": "code",
   "execution_count": 2,
   "id": "a12e5fec",
   "metadata": {},
   "outputs": [],
   "source": [
    "# Carregamento dos dados\n",
    "\n",
    "emocao_texto = pl.load(open(\"../dados/preprocessados/emocao_texto.pkl\", \"rb\"))\n",
    "emocao_label = pl.load(open(\"../dados/preprocessados/emocao_label.pkl\", \"rb\"))"
   ]
  },
  {
   "cell_type": "code",
   "execution_count": 3,
   "id": "2bd03c99",
   "metadata": {},
   "outputs": [
    {
     "data": {
      "text/plain": [
       "array([[ 6447,   291,   154, ...,     0,     0,     0],\n",
       "       [ 1755,  9991,   206, ...,     0,     0,     0],\n",
       "       [ 9992,    65,    63, ...,     0,     0,     0],\n",
       "       ...,\n",
       "       [   54,    59,    21, ...,     0,     0,     0],\n",
       "       [   54,    59,    21, ...,     0,     0,     0],\n",
       "       [36459,  8839,   845, ...,     0,     0,     0]])"
      ]
     },
     "execution_count": 3,
     "metadata": {},
     "output_type": "execute_result"
    }
   ],
   "source": [
    "emocao_texto"
   ]
  },
  {
   "cell_type": "code",
   "execution_count": 4,
   "id": "a39b31a3",
   "metadata": {},
   "outputs": [
    {
     "data": {
      "text/plain": [
       "array([2, 2, 0, ..., 3, 3, 3], dtype=int64)"
      ]
     },
     "execution_count": 4,
     "metadata": {},
     "output_type": "execute_result"
    }
   ],
   "source": [
    "emocao_label"
   ]
  },
  {
   "cell_type": "code",
   "execution_count": 22,
   "id": "81fd4ea1",
   "metadata": {},
   "outputs": [],
   "source": [
    "# One-Hot Encoding da label\n",
    "\n",
    "#emocao_label = tf_keras.utils.to_categorical(emocao_label, 5)\n",
    "#emocao_label"
   ]
  },
  {
   "cell_type": "markdown",
   "id": "6698e113",
   "metadata": {},
   "source": [
    "### Desenvolvimento da Arquitetura"
   ]
  },
  {
   "cell_type": "code",
   "execution_count": 77,
   "id": "ac26ba1a",
   "metadata": {},
   "outputs": [],
   "source": [
    "class Modelo_de_Emocao():\n",
    "    \n",
    "   \n",
    "    def __init__(self, dim_embedding, num_neuronios, attention, tamanho_vocab, tamanho_frase):\n",
    "        \n",
    "        self.dim_embedding = dim_embedding\n",
    "        self.num_neuronios = num_neuronios\n",
    "        self.tamanho_vocab = tamanho_vocab\n",
    "        self.tamanho_frase = tamanho_frase\n",
    "        self.attention = attention\n",
    "        \n",
    "    def constroi_modelo(self):\n",
    "        \n",
    "        # Camadas de entrada\n",
    "        inputs = tf_keras.layers.Input(shape=(self.tamanho_frase, ))\n",
    "        embedding = tf_keras.layers.Embedding(self.tamanho_vocab, self.dim_embedding, input_length=self.tamanho_frase)(inputs)\n",
    "        \n",
    "        # Camadas escondidas\n",
    "        gru = tf_keras.layers.Bidirectional(tf_keras.layers.GRU(self.num_neuronios, return_sequences=True))(embedding)\n",
    "        \n",
    "        # Mecanismo de Atenção\n",
    "        attention_layer1 = tf_keras.layers.Dense(self.attention, activation='tanh')(gru)\n",
    "        attention_layer2 = tf_keras.layers.Dense(1)(attention_layer1)\n",
    "        attention_layer3 = tf_keras.layers.Activation('softmax')(attention_layer2)\n",
    "        attention_output = tf_keras.layers.Dot(axes=1)([attention_layer3, gru])\n",
    "        flatten = tf_keras.layers.Flatten()(attention_output)\n",
    "        flatten = tf_keras.layers.RepeatVector(self.tamanho_frase)(flatten)\n",
    "        concatenated_attention = tf_keras.layers.Concatenate()([gru, flatten])\n",
    "        \n",
    "        # Camada de saída\n",
    "        dense1 = tf_keras.layers.Dense(2 * self.num_neuronios, activation='relu')(concatenated_attention)\n",
    "        dense2 = tf_keras.layers.Dense(self.num_neuronios / 2, activation='relu')(dense1)\n",
    "        flatten2 = tf_keras.layers.Flatten()(dense2)\n",
    "        dense_output = tf_keras.layers.Dense(5, activation='softmax')(flatten2)\n",
    "        \n",
    "        # Modelo\n",
    "        modelo = tf_keras.models.Model(inputs=inputs, outputs=dense_output)\n",
    "        \n",
    "        return modelo"
   ]
  },
  {
   "cell_type": "code",
   "execution_count": 78,
   "id": "44a84e3e",
   "metadata": {},
   "outputs": [
    {
     "name": "stdout",
     "output_type": "stream",
     "text": [
      "Model: \"model_3\"\n",
      "__________________________________________________________________________________________________\n",
      " Layer (type)                   Output Shape         Param #     Connected to                     \n",
      "==================================================================================================\n",
      " input_4 (InputLayer)           [(None, 1000)]       0           []                               \n",
      "                                                                                                  \n",
      " embedding_3 (Embedding)        (None, 1000, 512)    51200000    ['input_4[0][0]']                \n",
      "                                                                                                  \n",
      " bidirectional_3 (Bidirectional  (None, 1000, 512)   1182720     ['embedding_3[0][0]']            \n",
      " )                                                                                                \n",
      "                                                                                                  \n",
      " dense_15 (Dense)               (None, 1000, 256)    131328      ['bidirectional_3[0][0]']        \n",
      "                                                                                                  \n",
      " dense_16 (Dense)               (None, 1000, 1)      257         ['dense_15[0][0]']               \n",
      "                                                                                                  \n",
      " activation_3 (Activation)      (None, 1000, 1)      0           ['dense_16[0][0]']               \n",
      "                                                                                                  \n",
      " dot_3 (Dot)                    (None, 1, 512)       0           ['activation_3[0][0]',           \n",
      "                                                                  'bidirectional_3[0][0]']        \n",
      "                                                                                                  \n",
      " flatten_6 (Flatten)            (None, 512)          0           ['dot_3[0][0]']                  \n",
      "                                                                                                  \n",
      " repeat_vector_3 (RepeatVector)  (None, 1000, 512)   0           ['flatten_6[0][0]']              \n",
      "                                                                                                  \n",
      " concatenate_3 (Concatenate)    (None, 1000, 1024)   0           ['bidirectional_3[0][0]',        \n",
      "                                                                  'repeat_vector_3[0][0]']        \n",
      "                                                                                                  \n",
      " dense_17 (Dense)               (None, 1000, 512)    524800      ['concatenate_3[0][0]']          \n",
      "                                                                                                  \n",
      " dense_18 (Dense)               (None, 1000, 128)    65664       ['dense_17[0][0]']               \n",
      "                                                                                                  \n",
      " flatten_7 (Flatten)            (None, 128000)       0           ['dense_18[0][0]']               \n",
      "                                                                                                  \n",
      " dense_19 (Dense)               (None, 5)            640005      ['flatten_7[0][0]']              \n",
      "                                                                                                  \n",
      "==================================================================================================\n",
      "Total params: 53,744,774\n",
      "Trainable params: 53,744,774\n",
      "Non-trainable params: 0\n",
      "__________________________________________________________________________________________________\n"
     ]
    }
   ],
   "source": [
    "# Sumário do Modelo\n",
    "\n",
    "modelo = Modelo_de_Emocao(512, 256, 256, 100000, 1000) # Hiperparâmetros de exemplo\n",
    "modelo = modelo.constroi_modelo()\n",
    "modelo.summary()"
   ]
  },
  {
   "cell_type": "markdown",
   "id": "da6055a4",
   "metadata": {},
   "source": [
    "### Train Test Split"
   ]
  },
  {
   "cell_type": "code",
   "execution_count": 5,
   "id": "67fb46c1",
   "metadata": {},
   "outputs": [],
   "source": [
    "from sklearn.preprocessing import StandardScaler\n",
    "\n",
    "scaler = StandardScaler()\n",
    "\n",
    "emocao_texto = scaler.fit_transform(emocao_texto)"
   ]
  },
  {
   "cell_type": "code",
   "execution_count": 6,
   "id": "e861a402",
   "metadata": {},
   "outputs": [],
   "source": [
    "X_train, X_test, Y_train, Y_test = train_test_split(emocao_texto, emocao_label, test_size=.1, random_state=300)"
   ]
  },
  {
   "cell_type": "code",
   "execution_count": 7,
   "id": "00df6d8d",
   "metadata": {},
   "outputs": [
    {
     "data": {
      "text/plain": [
       "(23493, 300)"
      ]
     },
     "execution_count": 7,
     "metadata": {},
     "output_type": "execute_result"
    }
   ],
   "source": [
    "X_train.shape"
   ]
  },
  {
   "cell_type": "code",
   "execution_count": 8,
   "id": "09a7fd08",
   "metadata": {},
   "outputs": [
    {
     "data": {
      "text/plain": [
       "(2611, 300)"
      ]
     },
     "execution_count": 8,
     "metadata": {},
     "output_type": "execute_result"
    }
   ],
   "source": [
    "X_test.shape"
   ]
  },
  {
   "cell_type": "markdown",
   "id": "8be3007d",
   "metadata": {},
   "source": [
    "### Treinamento do Modelo: ANN"
   ]
  },
  {
   "cell_type": "code",
   "execution_count": 82,
   "id": "c27594f0",
   "metadata": {},
   "outputs": [],
   "source": [
    "# PARÂMETROS\n",
    "\n",
    "tf.random.set_seed(430)\n",
    "\n",
    "params = {'tamanho_vocab': 38965, 'tamanho_frase': 1000, 'learning_rate': .01,\n",
    "          'num_neuronios': 256, 'dim_embedding': 512, 'attention': 256}\n",
    "\n",
    "modelo = Modelo_de_Emocao(params[\"dim_embedding\"], params[\"num_neuronios\"], \n",
    "                                params[\"attention\"], params[\"tamanho_vocab\"], params[\"tamanho_frase\"])\n",
    "\n",
    "modelo = modelo.constroi_modelo()"
   ]
  },
  {
   "cell_type": "code",
   "execution_count": 83,
   "id": "678cd64d",
   "metadata": {},
   "outputs": [
    {
     "name": "stdout",
     "output_type": "stream",
     "text": [
      "Model: \"model_4\"\n",
      "__________________________________________________________________________________________________\n",
      " Layer (type)                   Output Shape         Param #     Connected to                     \n",
      "==================================================================================================\n",
      " input_5 (InputLayer)           [(None, 1000)]       0           []                               \n",
      "                                                                                                  \n",
      " embedding_4 (Embedding)        (None, 1000, 512)    19950080    ['input_5[0][0]']                \n",
      "                                                                                                  \n",
      " bidirectional_4 (Bidirectional  (None, 1000, 512)   1182720     ['embedding_4[0][0]']            \n",
      " )                                                                                                \n",
      "                                                                                                  \n",
      " dense_20 (Dense)               (None, 1000, 256)    131328      ['bidirectional_4[0][0]']        \n",
      "                                                                                                  \n",
      " dense_21 (Dense)               (None, 1000, 1)      257         ['dense_20[0][0]']               \n",
      "                                                                                                  \n",
      " activation_4 (Activation)      (None, 1000, 1)      0           ['dense_21[0][0]']               \n",
      "                                                                                                  \n",
      " dot_4 (Dot)                    (None, 1, 512)       0           ['activation_4[0][0]',           \n",
      "                                                                  'bidirectional_4[0][0]']        \n",
      "                                                                                                  \n",
      " flatten_8 (Flatten)            (None, 512)          0           ['dot_4[0][0]']                  \n",
      "                                                                                                  \n",
      " repeat_vector_4 (RepeatVector)  (None, 1000, 512)   0           ['flatten_8[0][0]']              \n",
      "                                                                                                  \n",
      " concatenate_4 (Concatenate)    (None, 1000, 1024)   0           ['bidirectional_4[0][0]',        \n",
      "                                                                  'repeat_vector_4[0][0]']        \n",
      "                                                                                                  \n",
      " dense_22 (Dense)               (None, 1000, 512)    524800      ['concatenate_4[0][0]']          \n",
      "                                                                                                  \n",
      " dense_23 (Dense)               (None, 1000, 128)    65664       ['dense_22[0][0]']               \n",
      "                                                                                                  \n",
      " flatten_9 (Flatten)            (None, 128000)       0           ['dense_23[0][0]']               \n",
      "                                                                                                  \n",
      " dense_24 (Dense)               (None, 5)            640005      ['flatten_9[0][0]']              \n",
      "                                                                                                  \n",
      "==================================================================================================\n",
      "Total params: 22,494,854\n",
      "Trainable params: 22,494,854\n",
      "Non-trainable params: 0\n",
      "__________________________________________________________________________________________________\n"
     ]
    }
   ],
   "source": [
    "modelo.summary()"
   ]
  },
  {
   "cell_type": "code",
   "execution_count": 84,
   "id": "f492f87c",
   "metadata": {},
   "outputs": [],
   "source": [
    "modelo.compile(loss='categorical_crossentropy', \n",
    "               optimizer=tf_keras.optimizers.Adadelta(learning_rate=params[\"learning_rate\"]), metrics=['accuracy'])"
   ]
  },
  {
   "cell_type": "code",
   "execution_count": null,
   "id": "26e886ad",
   "metadata": {},
   "outputs": [
    {
     "name": "stdout",
     "output_type": "stream",
     "text": [
      "Epoch 1/2\n",
      "   2/1592 [..............................] - ETA: 8:57:36 - loss: 22.3143 - accuracy: 0.0938 "
     ]
    }
   ],
   "source": [
    "# Callbacks\n",
    "early_stopping = tf_keras.callbacks.EarlyStopping(monitor='val_loss', patience=1)\n",
    "model_checkpoint = tf_keras.callbacks.ModelCheckpoint('../modelos/modelo_emocao.h5', monitor='val_accuracy', save_best_only=True)\n",
    "\n",
    "# Tempo inicial\n",
    "now = datetime.datetime.now()\n",
    "\n",
    "# Treinamento do modelo\n",
    "history = modelo.fit(X_train, Y_train, epochs=2, validation_data=(X_test, Y_test), \n",
    "                     batch_size=16, callbacks=[early_stopping, model_checkpoint])\n",
    "# Tempo final\n",
    "now2 = datetime.datetime.now()\n",
    "\n",
    "time = now2 - now\n",
    "print(f\"O tempo que levou para treinar é de {time}\")"
   ]
  },
  {
   "cell_type": "markdown",
   "id": "ed913ee0",
   "metadata": {},
   "source": [
    "### Avaliação do Modelo"
   ]
  },
  {
   "cell_type": "code",
   "execution_count": 65,
   "id": "9d5d2c73",
   "metadata": {},
   "outputs": [],
   "source": [
    "modelo = tf_keras.models.load_model(\"../modelos/modelo_emocao.h5\")"
   ]
  },
  {
   "cell_type": "code",
   "execution_count": 66,
   "id": "69fe15f9",
   "metadata": {},
   "outputs": [
    {
     "name": "stdout",
     "output_type": "stream",
     "text": [
      "89/89 [==============================] - 337s 4s/step\n"
     ]
    }
   ],
   "source": [
    "pred = modelo.predict(X_test)"
   ]
  },
  {
   "cell_type": "code",
   "execution_count": 67,
   "id": "e58df598",
   "metadata": {},
   "outputs": [],
   "source": [
    "pred = np.argmax(pred, axis=-1)"
   ]
  },
  {
   "cell_type": "markdown",
   "id": "9de792df",
   "metadata": {},
   "source": [
    "### Treinamento do Modelo: Random Forest"
   ]
  },
  {
   "cell_type": "code",
   "execution_count": 9,
   "id": "399fc983",
   "metadata": {},
   "outputs": [],
   "source": [
    "from sklearn.ensemble import RandomForestClassifier"
   ]
  },
  {
   "cell_type": "code",
   "execution_count": 10,
   "id": "a02d560b",
   "metadata": {},
   "outputs": [],
   "source": [
    "clf = RandomForestClassifier(n_estimators=300, criterion='entropy', min_samples_split=3)"
   ]
  },
  {
   "cell_type": "code",
   "execution_count": 11,
   "id": "153c9447",
   "metadata": {},
   "outputs": [
    {
     "data": {
      "text/plain": [
       "RandomForestClassifier(criterion='entropy', min_samples_split=3,\n",
       "                       n_estimators=300)"
      ]
     },
     "execution_count": 11,
     "metadata": {},
     "output_type": "execute_result"
    }
   ],
   "source": [
    "clf.fit(X_train, Y_train)"
   ]
  },
  {
   "cell_type": "code",
   "execution_count": 12,
   "id": "40d85d23",
   "metadata": {},
   "outputs": [],
   "source": [
    "pred2 = clf.predict(X_test)"
   ]
  },
  {
   "cell_type": "code",
   "execution_count": 13,
   "id": "dc236f46",
   "metadata": {},
   "outputs": [
    {
     "data": {
      "text/plain": [
       "array([1, 1, 1, ..., 1, 3, 0], dtype=int64)"
      ]
     },
     "execution_count": 13,
     "metadata": {},
     "output_type": "execute_result"
    }
   ],
   "source": [
    "pred2"
   ]
  },
  {
   "cell_type": "code",
   "execution_count": 14,
   "id": "d9c1c0e0",
   "metadata": {},
   "outputs": [
    {
     "data": {
      "text/plain": [
       "array([0, 1, 2, 3], dtype=int64)"
      ]
     },
     "execution_count": 14,
     "metadata": {},
     "output_type": "execute_result"
    }
   ],
   "source": [
    "np.unique(pred2)"
   ]
  },
  {
   "cell_type": "code",
   "execution_count": 15,
   "id": "7d972738",
   "metadata": {},
   "outputs": [
    {
     "name": "stdout",
     "output_type": "stream",
     "text": [
      "              precision    recall  f1-score   support\n",
      "\n",
      "           0       0.53      0.47      0.50       966\n",
      "           1       0.65      0.38      0.48      1414\n",
      "           2       0.07      0.27      0.11       130\n",
      "           3       0.12      0.48      0.19       101\n",
      "\n",
      "    accuracy                           0.41      2611\n",
      "   macro avg       0.34      0.40      0.32      2611\n",
      "weighted avg       0.56      0.41      0.46      2611\n",
      "\n"
     ]
    }
   ],
   "source": [
    "print(metrics.classification_report(pred2, Y_test))"
   ]
  },
  {
   "cell_type": "code",
   "execution_count": 16,
   "id": "c1303b50",
   "metadata": {},
   "outputs": [],
   "source": [
    "pl.dump(clf, open(\"../modelos/modelo_emocao.pkl\", \"wb\"))"
   ]
  },
  {
   "cell_type": "code",
   "execution_count": null,
   "id": "10f0e181",
   "metadata": {},
   "outputs": [],
   "source": []
  }
 ],
 "metadata": {
  "kernelspec": {
   "display_name": "Python 3 (ipykernel)",
   "language": "python",
   "name": "python3"
  },
  "language_info": {
   "codemirror_mode": {
    "name": "ipython",
    "version": 3
   },
   "file_extension": ".py",
   "mimetype": "text/x-python",
   "name": "python",
   "nbconvert_exporter": "python",
   "pygments_lexer": "ipython3",
   "version": "3.9.13"
  }
 },
 "nbformat": 4,
 "nbformat_minor": 5
}
